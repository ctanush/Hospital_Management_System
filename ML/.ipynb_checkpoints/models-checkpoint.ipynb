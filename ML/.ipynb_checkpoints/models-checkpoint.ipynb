{
 "cells": [
  {
   "cell_type": "code",
   "execution_count": 2,
   "id": "01251b16",
   "metadata": {
    "execution": {
     "iopub.execute_input": "2023-03-18T11:36:38.474589Z",
     "iopub.status.busy": "2023-03-18T11:36:38.474149Z",
     "iopub.status.idle": "2023-03-18T11:36:38.486792Z",
     "shell.execute_reply": "2023-03-18T11:36:38.485419Z"
    },
    "papermill": {
     "duration": 0.026189,
     "end_time": "2023-03-18T11:36:38.490041",
     "exception": false,
     "start_time": "2023-03-18T11:36:38.463852",
     "status": "completed"
    },
    "tags": []
   },
   "outputs": [],
   "source": [
    "import numpy as np \n",
    "import pandas as pd"
   ]
  },
  {
   "cell_type": "code",
   "execution_count": 3,
   "id": "1a6c2b0b",
   "metadata": {
    "execution": {
     "iopub.execute_input": "2023-03-18T11:36:38.507068Z",
     "iopub.status.busy": "2023-03-18T11:36:38.505899Z",
     "iopub.status.idle": "2023-03-18T11:36:38.576682Z",
     "shell.execute_reply": "2023-03-18T11:36:38.575222Z"
    },
    "papermill": {
     "duration": 0.081779,
     "end_time": "2023-03-18T11:36:38.579384",
     "exception": false,
     "start_time": "2023-03-18T11:36:38.497605",
     "status": "completed"
    },
    "tags": []
   },
   "outputs": [],
   "source": [
    "df = pd.read_csv(\"Training.csv\")"
   ]
  },
  {
   "cell_type": "code",
   "execution_count": 4,
   "id": "659cbd2f",
   "metadata": {
    "execution": {
     "iopub.execute_input": "2023-03-18T11:36:38.595435Z",
     "iopub.status.busy": "2023-03-18T11:36:38.595047Z",
     "iopub.status.idle": "2023-03-18T11:36:38.634786Z",
     "shell.execute_reply": "2023-03-18T11:36:38.633588Z"
    },
    "papermill": {
     "duration": 0.050791,
     "end_time": "2023-03-18T11:36:38.637482",
     "exception": false,
     "start_time": "2023-03-18T11:36:38.586691",
     "status": "completed"
    },
    "tags": []
   },
   "outputs": [
    {
     "data": {
      "text/html": [
       "<div>\n",
       "<style scoped>\n",
       "    .dataframe tbody tr th:only-of-type {\n",
       "        vertical-align: middle;\n",
       "    }\n",
       "\n",
       "    .dataframe tbody tr th {\n",
       "        vertical-align: top;\n",
       "    }\n",
       "\n",
       "    .dataframe thead th {\n",
       "        text-align: right;\n",
       "    }\n",
       "</style>\n",
       "<table border=\"1\" class=\"dataframe\">\n",
       "  <thead>\n",
       "    <tr style=\"text-align: right;\">\n",
       "      <th></th>\n",
       "      <th>itching</th>\n",
       "      <th>skin_rash</th>\n",
       "      <th>nodal_skin_eruptions</th>\n",
       "      <th>continuous_sneezing</th>\n",
       "      <th>shivering</th>\n",
       "      <th>chills</th>\n",
       "      <th>joint_pain</th>\n",
       "      <th>stomach_pain</th>\n",
       "      <th>acidity</th>\n",
       "      <th>ulcers_on_tongue</th>\n",
       "      <th>...</th>\n",
       "      <th>scurring</th>\n",
       "      <th>skin_peeling</th>\n",
       "      <th>silver_like_dusting</th>\n",
       "      <th>small_dents_in_nails</th>\n",
       "      <th>inflammatory_nails</th>\n",
       "      <th>blister</th>\n",
       "      <th>red_sore_around_nose</th>\n",
       "      <th>yellow_crust_ooze</th>\n",
       "      <th>prognosis</th>\n",
       "      <th>Unnamed: 133</th>\n",
       "    </tr>\n",
       "  </thead>\n",
       "  <tbody>\n",
       "    <tr>\n",
       "      <th>0</th>\n",
       "      <td>1</td>\n",
       "      <td>1</td>\n",
       "      <td>1</td>\n",
       "      <td>0</td>\n",
       "      <td>0</td>\n",
       "      <td>0</td>\n",
       "      <td>0</td>\n",
       "      <td>0</td>\n",
       "      <td>0</td>\n",
       "      <td>0</td>\n",
       "      <td>...</td>\n",
       "      <td>0</td>\n",
       "      <td>0</td>\n",
       "      <td>0</td>\n",
       "      <td>0</td>\n",
       "      <td>0</td>\n",
       "      <td>0</td>\n",
       "      <td>0</td>\n",
       "      <td>0</td>\n",
       "      <td>Fungal infection</td>\n",
       "      <td>NaN</td>\n",
       "    </tr>\n",
       "    <tr>\n",
       "      <th>1</th>\n",
       "      <td>0</td>\n",
       "      <td>1</td>\n",
       "      <td>1</td>\n",
       "      <td>0</td>\n",
       "      <td>0</td>\n",
       "      <td>0</td>\n",
       "      <td>0</td>\n",
       "      <td>0</td>\n",
       "      <td>0</td>\n",
       "      <td>0</td>\n",
       "      <td>...</td>\n",
       "      <td>0</td>\n",
       "      <td>0</td>\n",
       "      <td>0</td>\n",
       "      <td>0</td>\n",
       "      <td>0</td>\n",
       "      <td>0</td>\n",
       "      <td>0</td>\n",
       "      <td>0</td>\n",
       "      <td>Fungal infection</td>\n",
       "      <td>NaN</td>\n",
       "    </tr>\n",
       "    <tr>\n",
       "      <th>2</th>\n",
       "      <td>1</td>\n",
       "      <td>0</td>\n",
       "      <td>1</td>\n",
       "      <td>0</td>\n",
       "      <td>0</td>\n",
       "      <td>0</td>\n",
       "      <td>0</td>\n",
       "      <td>0</td>\n",
       "      <td>0</td>\n",
       "      <td>0</td>\n",
       "      <td>...</td>\n",
       "      <td>0</td>\n",
       "      <td>0</td>\n",
       "      <td>0</td>\n",
       "      <td>0</td>\n",
       "      <td>0</td>\n",
       "      <td>0</td>\n",
       "      <td>0</td>\n",
       "      <td>0</td>\n",
       "      <td>Fungal infection</td>\n",
       "      <td>NaN</td>\n",
       "    </tr>\n",
       "    <tr>\n",
       "      <th>3</th>\n",
       "      <td>1</td>\n",
       "      <td>1</td>\n",
       "      <td>0</td>\n",
       "      <td>0</td>\n",
       "      <td>0</td>\n",
       "      <td>0</td>\n",
       "      <td>0</td>\n",
       "      <td>0</td>\n",
       "      <td>0</td>\n",
       "      <td>0</td>\n",
       "      <td>...</td>\n",
       "      <td>0</td>\n",
       "      <td>0</td>\n",
       "      <td>0</td>\n",
       "      <td>0</td>\n",
       "      <td>0</td>\n",
       "      <td>0</td>\n",
       "      <td>0</td>\n",
       "      <td>0</td>\n",
       "      <td>Fungal infection</td>\n",
       "      <td>NaN</td>\n",
       "    </tr>\n",
       "    <tr>\n",
       "      <th>4</th>\n",
       "      <td>1</td>\n",
       "      <td>1</td>\n",
       "      <td>1</td>\n",
       "      <td>0</td>\n",
       "      <td>0</td>\n",
       "      <td>0</td>\n",
       "      <td>0</td>\n",
       "      <td>0</td>\n",
       "      <td>0</td>\n",
       "      <td>0</td>\n",
       "      <td>...</td>\n",
       "      <td>0</td>\n",
       "      <td>0</td>\n",
       "      <td>0</td>\n",
       "      <td>0</td>\n",
       "      <td>0</td>\n",
       "      <td>0</td>\n",
       "      <td>0</td>\n",
       "      <td>0</td>\n",
       "      <td>Fungal infection</td>\n",
       "      <td>NaN</td>\n",
       "    </tr>\n",
       "    <tr>\n",
       "      <th>...</th>\n",
       "      <td>...</td>\n",
       "      <td>...</td>\n",
       "      <td>...</td>\n",
       "      <td>...</td>\n",
       "      <td>...</td>\n",
       "      <td>...</td>\n",
       "      <td>...</td>\n",
       "      <td>...</td>\n",
       "      <td>...</td>\n",
       "      <td>...</td>\n",
       "      <td>...</td>\n",
       "      <td>...</td>\n",
       "      <td>...</td>\n",
       "      <td>...</td>\n",
       "      <td>...</td>\n",
       "      <td>...</td>\n",
       "      <td>...</td>\n",
       "      <td>...</td>\n",
       "      <td>...</td>\n",
       "      <td>...</td>\n",
       "      <td>...</td>\n",
       "    </tr>\n",
       "    <tr>\n",
       "      <th>4915</th>\n",
       "      <td>0</td>\n",
       "      <td>0</td>\n",
       "      <td>0</td>\n",
       "      <td>0</td>\n",
       "      <td>0</td>\n",
       "      <td>0</td>\n",
       "      <td>0</td>\n",
       "      <td>0</td>\n",
       "      <td>0</td>\n",
       "      <td>0</td>\n",
       "      <td>...</td>\n",
       "      <td>0</td>\n",
       "      <td>0</td>\n",
       "      <td>0</td>\n",
       "      <td>0</td>\n",
       "      <td>0</td>\n",
       "      <td>0</td>\n",
       "      <td>0</td>\n",
       "      <td>0</td>\n",
       "      <td>(vertigo) Paroymsal  Positional Vertigo</td>\n",
       "      <td>NaN</td>\n",
       "    </tr>\n",
       "    <tr>\n",
       "      <th>4916</th>\n",
       "      <td>0</td>\n",
       "      <td>1</td>\n",
       "      <td>0</td>\n",
       "      <td>0</td>\n",
       "      <td>0</td>\n",
       "      <td>0</td>\n",
       "      <td>0</td>\n",
       "      <td>0</td>\n",
       "      <td>0</td>\n",
       "      <td>0</td>\n",
       "      <td>...</td>\n",
       "      <td>1</td>\n",
       "      <td>0</td>\n",
       "      <td>0</td>\n",
       "      <td>0</td>\n",
       "      <td>0</td>\n",
       "      <td>0</td>\n",
       "      <td>0</td>\n",
       "      <td>0</td>\n",
       "      <td>Acne</td>\n",
       "      <td>NaN</td>\n",
       "    </tr>\n",
       "    <tr>\n",
       "      <th>4917</th>\n",
       "      <td>0</td>\n",
       "      <td>0</td>\n",
       "      <td>0</td>\n",
       "      <td>0</td>\n",
       "      <td>0</td>\n",
       "      <td>0</td>\n",
       "      <td>0</td>\n",
       "      <td>0</td>\n",
       "      <td>0</td>\n",
       "      <td>0</td>\n",
       "      <td>...</td>\n",
       "      <td>0</td>\n",
       "      <td>0</td>\n",
       "      <td>0</td>\n",
       "      <td>0</td>\n",
       "      <td>0</td>\n",
       "      <td>0</td>\n",
       "      <td>0</td>\n",
       "      <td>0</td>\n",
       "      <td>Urinary tract infection</td>\n",
       "      <td>NaN</td>\n",
       "    </tr>\n",
       "    <tr>\n",
       "      <th>4918</th>\n",
       "      <td>0</td>\n",
       "      <td>1</td>\n",
       "      <td>0</td>\n",
       "      <td>0</td>\n",
       "      <td>0</td>\n",
       "      <td>0</td>\n",
       "      <td>1</td>\n",
       "      <td>0</td>\n",
       "      <td>0</td>\n",
       "      <td>0</td>\n",
       "      <td>...</td>\n",
       "      <td>0</td>\n",
       "      <td>1</td>\n",
       "      <td>1</td>\n",
       "      <td>1</td>\n",
       "      <td>1</td>\n",
       "      <td>0</td>\n",
       "      <td>0</td>\n",
       "      <td>0</td>\n",
       "      <td>Psoriasis</td>\n",
       "      <td>NaN</td>\n",
       "    </tr>\n",
       "    <tr>\n",
       "      <th>4919</th>\n",
       "      <td>0</td>\n",
       "      <td>1</td>\n",
       "      <td>0</td>\n",
       "      <td>0</td>\n",
       "      <td>0</td>\n",
       "      <td>0</td>\n",
       "      <td>0</td>\n",
       "      <td>0</td>\n",
       "      <td>0</td>\n",
       "      <td>0</td>\n",
       "      <td>...</td>\n",
       "      <td>0</td>\n",
       "      <td>0</td>\n",
       "      <td>0</td>\n",
       "      <td>0</td>\n",
       "      <td>0</td>\n",
       "      <td>1</td>\n",
       "      <td>1</td>\n",
       "      <td>1</td>\n",
       "      <td>Impetigo</td>\n",
       "      <td>NaN</td>\n",
       "    </tr>\n",
       "  </tbody>\n",
       "</table>\n",
       "<p>4920 rows × 134 columns</p>\n",
       "</div>"
      ],
      "text/plain": [
       "      itching  skin_rash  nodal_skin_eruptions  continuous_sneezing  \\\n",
       "0           1          1                     1                    0   \n",
       "1           0          1                     1                    0   \n",
       "2           1          0                     1                    0   \n",
       "3           1          1                     0                    0   \n",
       "4           1          1                     1                    0   \n",
       "...       ...        ...                   ...                  ...   \n",
       "4915        0          0                     0                    0   \n",
       "4916        0          1                     0                    0   \n",
       "4917        0          0                     0                    0   \n",
       "4918        0          1                     0                    0   \n",
       "4919        0          1                     0                    0   \n",
       "\n",
       "      shivering  chills  joint_pain  stomach_pain  acidity  ulcers_on_tongue  \\\n",
       "0             0       0           0             0        0                 0   \n",
       "1             0       0           0             0        0                 0   \n",
       "2             0       0           0             0        0                 0   \n",
       "3             0       0           0             0        0                 0   \n",
       "4             0       0           0             0        0                 0   \n",
       "...         ...     ...         ...           ...      ...               ...   \n",
       "4915          0       0           0             0        0                 0   \n",
       "4916          0       0           0             0        0                 0   \n",
       "4917          0       0           0             0        0                 0   \n",
       "4918          0       0           1             0        0                 0   \n",
       "4919          0       0           0             0        0                 0   \n",
       "\n",
       "      ...  scurring  skin_peeling  silver_like_dusting  small_dents_in_nails  \\\n",
       "0     ...         0             0                    0                     0   \n",
       "1     ...         0             0                    0                     0   \n",
       "2     ...         0             0                    0                     0   \n",
       "3     ...         0             0                    0                     0   \n",
       "4     ...         0             0                    0                     0   \n",
       "...   ...       ...           ...                  ...                   ...   \n",
       "4915  ...         0             0                    0                     0   \n",
       "4916  ...         1             0                    0                     0   \n",
       "4917  ...         0             0                    0                     0   \n",
       "4918  ...         0             1                    1                     1   \n",
       "4919  ...         0             0                    0                     0   \n",
       "\n",
       "      inflammatory_nails  blister  red_sore_around_nose  yellow_crust_ooze  \\\n",
       "0                      0        0                     0                  0   \n",
       "1                      0        0                     0                  0   \n",
       "2                      0        0                     0                  0   \n",
       "3                      0        0                     0                  0   \n",
       "4                      0        0                     0                  0   \n",
       "...                  ...      ...                   ...                ...   \n",
       "4915                   0        0                     0                  0   \n",
       "4916                   0        0                     0                  0   \n",
       "4917                   0        0                     0                  0   \n",
       "4918                   1        0                     0                  0   \n",
       "4919                   0        1                     1                  1   \n",
       "\n",
       "                                    prognosis  Unnamed: 133  \n",
       "0                            Fungal infection           NaN  \n",
       "1                            Fungal infection           NaN  \n",
       "2                            Fungal infection           NaN  \n",
       "3                            Fungal infection           NaN  \n",
       "4                            Fungal infection           NaN  \n",
       "...                                       ...           ...  \n",
       "4915  (vertigo) Paroymsal  Positional Vertigo           NaN  \n",
       "4916                                     Acne           NaN  \n",
       "4917                  Urinary tract infection           NaN  \n",
       "4918                                Psoriasis           NaN  \n",
       "4919                                 Impetigo           NaN  \n",
       "\n",
       "[4920 rows x 134 columns]"
      ]
     },
     "execution_count": 4,
     "metadata": {},
     "output_type": "execute_result"
    }
   ],
   "source": [
    "df"
   ]
  },
  {
   "cell_type": "code",
   "execution_count": 5,
   "id": "bff433a0",
   "metadata": {
    "execution": {
     "iopub.execute_input": "2023-03-18T11:36:38.655343Z",
     "iopub.status.busy": "2023-03-18T11:36:38.654951Z",
     "iopub.status.idle": "2023-03-18T11:36:38.670085Z",
     "shell.execute_reply": "2023-03-18T11:36:38.668442Z"
    },
    "papermill": {
     "duration": 0.027629,
     "end_time": "2023-03-18T11:36:38.673036",
     "exception": false,
     "start_time": "2023-03-18T11:36:38.645407",
     "status": "completed"
    },
    "tags": []
   },
   "outputs": [
    {
     "data": {
      "text/plain": [
       "0       133\n",
       "4920      1\n",
       "dtype: int64"
      ]
     },
     "execution_count": 5,
     "metadata": {},
     "output_type": "execute_result"
    }
   ],
   "source": [
    "df.isna().sum().value_counts()"
   ]
  },
  {
   "cell_type": "code",
   "execution_count": 6,
   "id": "d83dd353",
   "metadata": {
    "execution": {
     "iopub.execute_input": "2023-03-18T11:36:38.691714Z",
     "iopub.status.busy": "2023-03-18T11:36:38.690815Z",
     "iopub.status.idle": "2023-03-18T11:36:38.699096Z",
     "shell.execute_reply": "2023-03-18T11:36:38.697574Z"
    },
    "papermill": {
     "duration": 0.020396,
     "end_time": "2023-03-18T11:36:38.701602",
     "exception": false,
     "start_time": "2023-03-18T11:36:38.681206",
     "status": "completed"
    },
    "tags": []
   },
   "outputs": [
    {
     "data": {
      "text/plain": [
       "Index(['itching', 'skin_rash', 'nodal_skin_eruptions', 'continuous_sneezing',\n",
       "       'shivering', 'chills', 'joint_pain', 'stomach_pain', 'acidity',\n",
       "       'ulcers_on_tongue',\n",
       "       ...\n",
       "       'scurring', 'skin_peeling', 'silver_like_dusting',\n",
       "       'small_dents_in_nails', 'inflammatory_nails', 'blister',\n",
       "       'red_sore_around_nose', 'yellow_crust_ooze', 'prognosis',\n",
       "       'Unnamed: 133'],\n",
       "      dtype='object', length=134)"
      ]
     },
     "execution_count": 6,
     "metadata": {},
     "output_type": "execute_result"
    }
   ],
   "source": [
    "df.columns"
   ]
  },
  {
   "cell_type": "code",
   "execution_count": 7,
   "id": "8eed27dd",
   "metadata": {
    "execution": {
     "iopub.execute_input": "2023-03-18T11:36:38.719734Z",
     "iopub.status.busy": "2023-03-18T11:36:38.719156Z",
     "iopub.status.idle": "2023-03-18T11:36:38.725653Z",
     "shell.execute_reply": "2023-03-18T11:36:38.724943Z"
    },
    "papermill": {
     "duration": 0.018111,
     "end_time": "2023-03-18T11:36:38.728025",
     "exception": false,
     "start_time": "2023-03-18T11:36:38.709914",
     "status": "completed"
    },
    "tags": []
   },
   "outputs": [],
   "source": [
    "df.drop('Unnamed: 133',axis=1,inplace=True)"
   ]
  },
  {
   "cell_type": "code",
   "execution_count": 8,
   "id": "2bd0ac99",
   "metadata": {
    "execution": {
     "iopub.execute_input": "2023-03-18T11:36:38.746567Z",
     "iopub.status.busy": "2023-03-18T11:36:38.745865Z",
     "iopub.status.idle": "2023-03-18T11:36:38.770178Z",
     "shell.execute_reply": "2023-03-18T11:36:38.769176Z"
    },
    "papermill": {
     "duration": 0.035987,
     "end_time": "2023-03-18T11:36:38.772302",
     "exception": false,
     "start_time": "2023-03-18T11:36:38.736315",
     "status": "completed"
    },
    "tags": []
   },
   "outputs": [
    {
     "data": {
      "text/html": [
       "<div>\n",
       "<style scoped>\n",
       "    .dataframe tbody tr th:only-of-type {\n",
       "        vertical-align: middle;\n",
       "    }\n",
       "\n",
       "    .dataframe tbody tr th {\n",
       "        vertical-align: top;\n",
       "    }\n",
       "\n",
       "    .dataframe thead th {\n",
       "        text-align: right;\n",
       "    }\n",
       "</style>\n",
       "<table border=\"1\" class=\"dataframe\">\n",
       "  <thead>\n",
       "    <tr style=\"text-align: right;\">\n",
       "      <th></th>\n",
       "      <th>itching</th>\n",
       "      <th>skin_rash</th>\n",
       "      <th>nodal_skin_eruptions</th>\n",
       "      <th>continuous_sneezing</th>\n",
       "      <th>shivering</th>\n",
       "      <th>chills</th>\n",
       "      <th>joint_pain</th>\n",
       "      <th>stomach_pain</th>\n",
       "      <th>acidity</th>\n",
       "      <th>ulcers_on_tongue</th>\n",
       "      <th>...</th>\n",
       "      <th>blackheads</th>\n",
       "      <th>scurring</th>\n",
       "      <th>skin_peeling</th>\n",
       "      <th>silver_like_dusting</th>\n",
       "      <th>small_dents_in_nails</th>\n",
       "      <th>inflammatory_nails</th>\n",
       "      <th>blister</th>\n",
       "      <th>red_sore_around_nose</th>\n",
       "      <th>yellow_crust_ooze</th>\n",
       "      <th>prognosis</th>\n",
       "    </tr>\n",
       "  </thead>\n",
       "  <tbody>\n",
       "    <tr>\n",
       "      <th>0</th>\n",
       "      <td>1</td>\n",
       "      <td>1</td>\n",
       "      <td>1</td>\n",
       "      <td>0</td>\n",
       "      <td>0</td>\n",
       "      <td>0</td>\n",
       "      <td>0</td>\n",
       "      <td>0</td>\n",
       "      <td>0</td>\n",
       "      <td>0</td>\n",
       "      <td>...</td>\n",
       "      <td>0</td>\n",
       "      <td>0</td>\n",
       "      <td>0</td>\n",
       "      <td>0</td>\n",
       "      <td>0</td>\n",
       "      <td>0</td>\n",
       "      <td>0</td>\n",
       "      <td>0</td>\n",
       "      <td>0</td>\n",
       "      <td>Fungal infection</td>\n",
       "    </tr>\n",
       "    <tr>\n",
       "      <th>1</th>\n",
       "      <td>0</td>\n",
       "      <td>1</td>\n",
       "      <td>1</td>\n",
       "      <td>0</td>\n",
       "      <td>0</td>\n",
       "      <td>0</td>\n",
       "      <td>0</td>\n",
       "      <td>0</td>\n",
       "      <td>0</td>\n",
       "      <td>0</td>\n",
       "      <td>...</td>\n",
       "      <td>0</td>\n",
       "      <td>0</td>\n",
       "      <td>0</td>\n",
       "      <td>0</td>\n",
       "      <td>0</td>\n",
       "      <td>0</td>\n",
       "      <td>0</td>\n",
       "      <td>0</td>\n",
       "      <td>0</td>\n",
       "      <td>Fungal infection</td>\n",
       "    </tr>\n",
       "    <tr>\n",
       "      <th>2</th>\n",
       "      <td>1</td>\n",
       "      <td>0</td>\n",
       "      <td>1</td>\n",
       "      <td>0</td>\n",
       "      <td>0</td>\n",
       "      <td>0</td>\n",
       "      <td>0</td>\n",
       "      <td>0</td>\n",
       "      <td>0</td>\n",
       "      <td>0</td>\n",
       "      <td>...</td>\n",
       "      <td>0</td>\n",
       "      <td>0</td>\n",
       "      <td>0</td>\n",
       "      <td>0</td>\n",
       "      <td>0</td>\n",
       "      <td>0</td>\n",
       "      <td>0</td>\n",
       "      <td>0</td>\n",
       "      <td>0</td>\n",
       "      <td>Fungal infection</td>\n",
       "    </tr>\n",
       "    <tr>\n",
       "      <th>3</th>\n",
       "      <td>1</td>\n",
       "      <td>1</td>\n",
       "      <td>0</td>\n",
       "      <td>0</td>\n",
       "      <td>0</td>\n",
       "      <td>0</td>\n",
       "      <td>0</td>\n",
       "      <td>0</td>\n",
       "      <td>0</td>\n",
       "      <td>0</td>\n",
       "      <td>...</td>\n",
       "      <td>0</td>\n",
       "      <td>0</td>\n",
       "      <td>0</td>\n",
       "      <td>0</td>\n",
       "      <td>0</td>\n",
       "      <td>0</td>\n",
       "      <td>0</td>\n",
       "      <td>0</td>\n",
       "      <td>0</td>\n",
       "      <td>Fungal infection</td>\n",
       "    </tr>\n",
       "    <tr>\n",
       "      <th>4</th>\n",
       "      <td>1</td>\n",
       "      <td>1</td>\n",
       "      <td>1</td>\n",
       "      <td>0</td>\n",
       "      <td>0</td>\n",
       "      <td>0</td>\n",
       "      <td>0</td>\n",
       "      <td>0</td>\n",
       "      <td>0</td>\n",
       "      <td>0</td>\n",
       "      <td>...</td>\n",
       "      <td>0</td>\n",
       "      <td>0</td>\n",
       "      <td>0</td>\n",
       "      <td>0</td>\n",
       "      <td>0</td>\n",
       "      <td>0</td>\n",
       "      <td>0</td>\n",
       "      <td>0</td>\n",
       "      <td>0</td>\n",
       "      <td>Fungal infection</td>\n",
       "    </tr>\n",
       "    <tr>\n",
       "      <th>...</th>\n",
       "      <td>...</td>\n",
       "      <td>...</td>\n",
       "      <td>...</td>\n",
       "      <td>...</td>\n",
       "      <td>...</td>\n",
       "      <td>...</td>\n",
       "      <td>...</td>\n",
       "      <td>...</td>\n",
       "      <td>...</td>\n",
       "      <td>...</td>\n",
       "      <td>...</td>\n",
       "      <td>...</td>\n",
       "      <td>...</td>\n",
       "      <td>...</td>\n",
       "      <td>...</td>\n",
       "      <td>...</td>\n",
       "      <td>...</td>\n",
       "      <td>...</td>\n",
       "      <td>...</td>\n",
       "      <td>...</td>\n",
       "      <td>...</td>\n",
       "    </tr>\n",
       "    <tr>\n",
       "      <th>4915</th>\n",
       "      <td>0</td>\n",
       "      <td>0</td>\n",
       "      <td>0</td>\n",
       "      <td>0</td>\n",
       "      <td>0</td>\n",
       "      <td>0</td>\n",
       "      <td>0</td>\n",
       "      <td>0</td>\n",
       "      <td>0</td>\n",
       "      <td>0</td>\n",
       "      <td>...</td>\n",
       "      <td>0</td>\n",
       "      <td>0</td>\n",
       "      <td>0</td>\n",
       "      <td>0</td>\n",
       "      <td>0</td>\n",
       "      <td>0</td>\n",
       "      <td>0</td>\n",
       "      <td>0</td>\n",
       "      <td>0</td>\n",
       "      <td>(vertigo) Paroymsal  Positional Vertigo</td>\n",
       "    </tr>\n",
       "    <tr>\n",
       "      <th>4916</th>\n",
       "      <td>0</td>\n",
       "      <td>1</td>\n",
       "      <td>0</td>\n",
       "      <td>0</td>\n",
       "      <td>0</td>\n",
       "      <td>0</td>\n",
       "      <td>0</td>\n",
       "      <td>0</td>\n",
       "      <td>0</td>\n",
       "      <td>0</td>\n",
       "      <td>...</td>\n",
       "      <td>1</td>\n",
       "      <td>1</td>\n",
       "      <td>0</td>\n",
       "      <td>0</td>\n",
       "      <td>0</td>\n",
       "      <td>0</td>\n",
       "      <td>0</td>\n",
       "      <td>0</td>\n",
       "      <td>0</td>\n",
       "      <td>Acne</td>\n",
       "    </tr>\n",
       "    <tr>\n",
       "      <th>4917</th>\n",
       "      <td>0</td>\n",
       "      <td>0</td>\n",
       "      <td>0</td>\n",
       "      <td>0</td>\n",
       "      <td>0</td>\n",
       "      <td>0</td>\n",
       "      <td>0</td>\n",
       "      <td>0</td>\n",
       "      <td>0</td>\n",
       "      <td>0</td>\n",
       "      <td>...</td>\n",
       "      <td>0</td>\n",
       "      <td>0</td>\n",
       "      <td>0</td>\n",
       "      <td>0</td>\n",
       "      <td>0</td>\n",
       "      <td>0</td>\n",
       "      <td>0</td>\n",
       "      <td>0</td>\n",
       "      <td>0</td>\n",
       "      <td>Urinary tract infection</td>\n",
       "    </tr>\n",
       "    <tr>\n",
       "      <th>4918</th>\n",
       "      <td>0</td>\n",
       "      <td>1</td>\n",
       "      <td>0</td>\n",
       "      <td>0</td>\n",
       "      <td>0</td>\n",
       "      <td>0</td>\n",
       "      <td>1</td>\n",
       "      <td>0</td>\n",
       "      <td>0</td>\n",
       "      <td>0</td>\n",
       "      <td>...</td>\n",
       "      <td>0</td>\n",
       "      <td>0</td>\n",
       "      <td>1</td>\n",
       "      <td>1</td>\n",
       "      <td>1</td>\n",
       "      <td>1</td>\n",
       "      <td>0</td>\n",
       "      <td>0</td>\n",
       "      <td>0</td>\n",
       "      <td>Psoriasis</td>\n",
       "    </tr>\n",
       "    <tr>\n",
       "      <th>4919</th>\n",
       "      <td>0</td>\n",
       "      <td>1</td>\n",
       "      <td>0</td>\n",
       "      <td>0</td>\n",
       "      <td>0</td>\n",
       "      <td>0</td>\n",
       "      <td>0</td>\n",
       "      <td>0</td>\n",
       "      <td>0</td>\n",
       "      <td>0</td>\n",
       "      <td>...</td>\n",
       "      <td>0</td>\n",
       "      <td>0</td>\n",
       "      <td>0</td>\n",
       "      <td>0</td>\n",
       "      <td>0</td>\n",
       "      <td>0</td>\n",
       "      <td>1</td>\n",
       "      <td>1</td>\n",
       "      <td>1</td>\n",
       "      <td>Impetigo</td>\n",
       "    </tr>\n",
       "  </tbody>\n",
       "</table>\n",
       "<p>4920 rows × 133 columns</p>\n",
       "</div>"
      ],
      "text/plain": [
       "      itching  skin_rash  nodal_skin_eruptions  continuous_sneezing  \\\n",
       "0           1          1                     1                    0   \n",
       "1           0          1                     1                    0   \n",
       "2           1          0                     1                    0   \n",
       "3           1          1                     0                    0   \n",
       "4           1          1                     1                    0   \n",
       "...       ...        ...                   ...                  ...   \n",
       "4915        0          0                     0                    0   \n",
       "4916        0          1                     0                    0   \n",
       "4917        0          0                     0                    0   \n",
       "4918        0          1                     0                    0   \n",
       "4919        0          1                     0                    0   \n",
       "\n",
       "      shivering  chills  joint_pain  stomach_pain  acidity  ulcers_on_tongue  \\\n",
       "0             0       0           0             0        0                 0   \n",
       "1             0       0           0             0        0                 0   \n",
       "2             0       0           0             0        0                 0   \n",
       "3             0       0           0             0        0                 0   \n",
       "4             0       0           0             0        0                 0   \n",
       "...         ...     ...         ...           ...      ...               ...   \n",
       "4915          0       0           0             0        0                 0   \n",
       "4916          0       0           0             0        0                 0   \n",
       "4917          0       0           0             0        0                 0   \n",
       "4918          0       0           1             0        0                 0   \n",
       "4919          0       0           0             0        0                 0   \n",
       "\n",
       "      ...  blackheads  scurring  skin_peeling  silver_like_dusting  \\\n",
       "0     ...           0         0             0                    0   \n",
       "1     ...           0         0             0                    0   \n",
       "2     ...           0         0             0                    0   \n",
       "3     ...           0         0             0                    0   \n",
       "4     ...           0         0             0                    0   \n",
       "...   ...         ...       ...           ...                  ...   \n",
       "4915  ...           0         0             0                    0   \n",
       "4916  ...           1         1             0                    0   \n",
       "4917  ...           0         0             0                    0   \n",
       "4918  ...           0         0             1                    1   \n",
       "4919  ...           0         0             0                    0   \n",
       "\n",
       "      small_dents_in_nails  inflammatory_nails  blister  red_sore_around_nose  \\\n",
       "0                        0                   0        0                     0   \n",
       "1                        0                   0        0                     0   \n",
       "2                        0                   0        0                     0   \n",
       "3                        0                   0        0                     0   \n",
       "4                        0                   0        0                     0   \n",
       "...                    ...                 ...      ...                   ...   \n",
       "4915                     0                   0        0                     0   \n",
       "4916                     0                   0        0                     0   \n",
       "4917                     0                   0        0                     0   \n",
       "4918                     1                   1        0                     0   \n",
       "4919                     0                   0        1                     1   \n",
       "\n",
       "      yellow_crust_ooze                                prognosis  \n",
       "0                     0                         Fungal infection  \n",
       "1                     0                         Fungal infection  \n",
       "2                     0                         Fungal infection  \n",
       "3                     0                         Fungal infection  \n",
       "4                     0                         Fungal infection  \n",
       "...                 ...                                      ...  \n",
       "4915                  0  (vertigo) Paroymsal  Positional Vertigo  \n",
       "4916                  0                                     Acne  \n",
       "4917                  0                  Urinary tract infection  \n",
       "4918                  0                                Psoriasis  \n",
       "4919                  1                                 Impetigo  \n",
       "\n",
       "[4920 rows x 133 columns]"
      ]
     },
     "execution_count": 8,
     "metadata": {},
     "output_type": "execute_result"
    }
   ],
   "source": [
    "df"
   ]
  },
  {
   "cell_type": "code",
   "execution_count": 9,
   "id": "70fc7d92",
   "metadata": {
    "execution": {
     "iopub.execute_input": "2023-03-18T11:36:38.793751Z",
     "iopub.status.busy": "2023-03-18T11:36:38.793156Z",
     "iopub.status.idle": "2023-03-18T11:36:39.857370Z",
     "shell.execute_reply": "2023-03-18T11:36:39.856316Z"
    },
    "papermill": {
     "duration": 1.077699,
     "end_time": "2023-03-18T11:36:39.860093",
     "exception": false,
     "start_time": "2023-03-18T11:36:38.782394",
     "status": "completed"
    },
    "tags": []
   },
   "outputs": [],
   "source": [
    "from sklearn.model_selection import train_test_split"
   ]
  },
  {
   "cell_type": "code",
   "execution_count": 10,
   "id": "6e07857d",
   "metadata": {
    "execution": {
     "iopub.execute_input": "2023-03-18T11:36:39.879290Z",
     "iopub.status.busy": "2023-03-18T11:36:39.878865Z",
     "iopub.status.idle": "2023-03-18T11:36:39.886817Z",
     "shell.execute_reply": "2023-03-18T11:36:39.885641Z"
    },
    "papermill": {
     "duration": 0.019961,
     "end_time": "2023-03-18T11:36:39.888684",
     "exception": false,
     "start_time": "2023-03-18T11:36:39.868723",
     "status": "completed"
    },
    "tags": []
   },
   "outputs": [],
   "source": [
    "X = df.iloc[:,:-1]\n",
    "y = df.iloc[:,-1]"
   ]
  },
  {
   "cell_type": "code",
   "execution_count": 11,
   "id": "bd1eb62f",
   "metadata": {
    "execution": {
     "iopub.execute_input": "2023-03-18T11:36:39.908290Z",
     "iopub.status.busy": "2023-03-18T11:36:39.907326Z",
     "iopub.status.idle": "2023-03-18T11:36:39.924226Z",
     "shell.execute_reply": "2023-03-18T11:36:39.922658Z"
    },
    "papermill": {
     "duration": 0.029163,
     "end_time": "2023-03-18T11:36:39.926555",
     "exception": false,
     "start_time": "2023-03-18T11:36:39.897392",
     "status": "completed"
    },
    "tags": []
   },
   "outputs": [
    {
     "data": {
      "text/html": [
       "<div>\n",
       "<style scoped>\n",
       "    .dataframe tbody tr th:only-of-type {\n",
       "        vertical-align: middle;\n",
       "    }\n",
       "\n",
       "    .dataframe tbody tr th {\n",
       "        vertical-align: top;\n",
       "    }\n",
       "\n",
       "    .dataframe thead th {\n",
       "        text-align: right;\n",
       "    }\n",
       "</style>\n",
       "<table border=\"1\" class=\"dataframe\">\n",
       "  <thead>\n",
       "    <tr style=\"text-align: right;\">\n",
       "      <th></th>\n",
       "      <th>itching</th>\n",
       "      <th>skin_rash</th>\n",
       "      <th>nodal_skin_eruptions</th>\n",
       "      <th>continuous_sneezing</th>\n",
       "      <th>shivering</th>\n",
       "      <th>chills</th>\n",
       "      <th>joint_pain</th>\n",
       "      <th>stomach_pain</th>\n",
       "      <th>acidity</th>\n",
       "      <th>ulcers_on_tongue</th>\n",
       "      <th>...</th>\n",
       "      <th>pus_filled_pimples</th>\n",
       "      <th>blackheads</th>\n",
       "      <th>scurring</th>\n",
       "      <th>skin_peeling</th>\n",
       "      <th>silver_like_dusting</th>\n",
       "      <th>small_dents_in_nails</th>\n",
       "      <th>inflammatory_nails</th>\n",
       "      <th>blister</th>\n",
       "      <th>red_sore_around_nose</th>\n",
       "      <th>yellow_crust_ooze</th>\n",
       "    </tr>\n",
       "  </thead>\n",
       "  <tbody>\n",
       "    <tr>\n",
       "      <th>0</th>\n",
       "      <td>1</td>\n",
       "      <td>1</td>\n",
       "      <td>1</td>\n",
       "      <td>0</td>\n",
       "      <td>0</td>\n",
       "      <td>0</td>\n",
       "      <td>0</td>\n",
       "      <td>0</td>\n",
       "      <td>0</td>\n",
       "      <td>0</td>\n",
       "      <td>...</td>\n",
       "      <td>0</td>\n",
       "      <td>0</td>\n",
       "      <td>0</td>\n",
       "      <td>0</td>\n",
       "      <td>0</td>\n",
       "      <td>0</td>\n",
       "      <td>0</td>\n",
       "      <td>0</td>\n",
       "      <td>0</td>\n",
       "      <td>0</td>\n",
       "    </tr>\n",
       "    <tr>\n",
       "      <th>1</th>\n",
       "      <td>0</td>\n",
       "      <td>1</td>\n",
       "      <td>1</td>\n",
       "      <td>0</td>\n",
       "      <td>0</td>\n",
       "      <td>0</td>\n",
       "      <td>0</td>\n",
       "      <td>0</td>\n",
       "      <td>0</td>\n",
       "      <td>0</td>\n",
       "      <td>...</td>\n",
       "      <td>0</td>\n",
       "      <td>0</td>\n",
       "      <td>0</td>\n",
       "      <td>0</td>\n",
       "      <td>0</td>\n",
       "      <td>0</td>\n",
       "      <td>0</td>\n",
       "      <td>0</td>\n",
       "      <td>0</td>\n",
       "      <td>0</td>\n",
       "    </tr>\n",
       "    <tr>\n",
       "      <th>2</th>\n",
       "      <td>1</td>\n",
       "      <td>0</td>\n",
       "      <td>1</td>\n",
       "      <td>0</td>\n",
       "      <td>0</td>\n",
       "      <td>0</td>\n",
       "      <td>0</td>\n",
       "      <td>0</td>\n",
       "      <td>0</td>\n",
       "      <td>0</td>\n",
       "      <td>...</td>\n",
       "      <td>0</td>\n",
       "      <td>0</td>\n",
       "      <td>0</td>\n",
       "      <td>0</td>\n",
       "      <td>0</td>\n",
       "      <td>0</td>\n",
       "      <td>0</td>\n",
       "      <td>0</td>\n",
       "      <td>0</td>\n",
       "      <td>0</td>\n",
       "    </tr>\n",
       "    <tr>\n",
       "      <th>3</th>\n",
       "      <td>1</td>\n",
       "      <td>1</td>\n",
       "      <td>0</td>\n",
       "      <td>0</td>\n",
       "      <td>0</td>\n",
       "      <td>0</td>\n",
       "      <td>0</td>\n",
       "      <td>0</td>\n",
       "      <td>0</td>\n",
       "      <td>0</td>\n",
       "      <td>...</td>\n",
       "      <td>0</td>\n",
       "      <td>0</td>\n",
       "      <td>0</td>\n",
       "      <td>0</td>\n",
       "      <td>0</td>\n",
       "      <td>0</td>\n",
       "      <td>0</td>\n",
       "      <td>0</td>\n",
       "      <td>0</td>\n",
       "      <td>0</td>\n",
       "    </tr>\n",
       "    <tr>\n",
       "      <th>4</th>\n",
       "      <td>1</td>\n",
       "      <td>1</td>\n",
       "      <td>1</td>\n",
       "      <td>0</td>\n",
       "      <td>0</td>\n",
       "      <td>0</td>\n",
       "      <td>0</td>\n",
       "      <td>0</td>\n",
       "      <td>0</td>\n",
       "      <td>0</td>\n",
       "      <td>...</td>\n",
       "      <td>0</td>\n",
       "      <td>0</td>\n",
       "      <td>0</td>\n",
       "      <td>0</td>\n",
       "      <td>0</td>\n",
       "      <td>0</td>\n",
       "      <td>0</td>\n",
       "      <td>0</td>\n",
       "      <td>0</td>\n",
       "      <td>0</td>\n",
       "    </tr>\n",
       "  </tbody>\n",
       "</table>\n",
       "<p>5 rows × 132 columns</p>\n",
       "</div>"
      ],
      "text/plain": [
       "   itching  skin_rash  nodal_skin_eruptions  continuous_sneezing  shivering  \\\n",
       "0        1          1                     1                    0          0   \n",
       "1        0          1                     1                    0          0   \n",
       "2        1          0                     1                    0          0   \n",
       "3        1          1                     0                    0          0   \n",
       "4        1          1                     1                    0          0   \n",
       "\n",
       "   chills  joint_pain  stomach_pain  acidity  ulcers_on_tongue  ...  \\\n",
       "0       0           0             0        0                 0  ...   \n",
       "1       0           0             0        0                 0  ...   \n",
       "2       0           0             0        0                 0  ...   \n",
       "3       0           0             0        0                 0  ...   \n",
       "4       0           0             0        0                 0  ...   \n",
       "\n",
       "   pus_filled_pimples  blackheads  scurring  skin_peeling  \\\n",
       "0                   0           0         0             0   \n",
       "1                   0           0         0             0   \n",
       "2                   0           0         0             0   \n",
       "3                   0           0         0             0   \n",
       "4                   0           0         0             0   \n",
       "\n",
       "   silver_like_dusting  small_dents_in_nails  inflammatory_nails  blister  \\\n",
       "0                    0                     0                   0        0   \n",
       "1                    0                     0                   0        0   \n",
       "2                    0                     0                   0        0   \n",
       "3                    0                     0                   0        0   \n",
       "4                    0                     0                   0        0   \n",
       "\n",
       "   red_sore_around_nose  yellow_crust_ooze  \n",
       "0                     0                  0  \n",
       "1                     0                  0  \n",
       "2                     0                  0  \n",
       "3                     0                  0  \n",
       "4                     0                  0  \n",
       "\n",
       "[5 rows x 132 columns]"
      ]
     },
     "execution_count": 11,
     "metadata": {},
     "output_type": "execute_result"
    }
   ],
   "source": [
    "X.head()"
   ]
  },
  {
   "cell_type": "code",
   "execution_count": 12,
   "id": "105c1a9f",
   "metadata": {
    "execution": {
     "iopub.execute_input": "2023-03-18T11:36:39.946394Z",
     "iopub.status.busy": "2023-03-18T11:36:39.945997Z",
     "iopub.status.idle": "2023-03-18T11:36:39.953785Z",
     "shell.execute_reply": "2023-03-18T11:36:39.952893Z"
    },
    "papermill": {
     "duration": 0.02004,
     "end_time": "2023-03-18T11:36:39.955838",
     "exception": false,
     "start_time": "2023-03-18T11:36:39.935798",
     "status": "completed"
    },
    "tags": []
   },
   "outputs": [
    {
     "data": {
      "text/plain": [
       "0                              Fungal infection\n",
       "1                              Fungal infection\n",
       "2                              Fungal infection\n",
       "3                              Fungal infection\n",
       "4                              Fungal infection\n",
       "                         ...                   \n",
       "4915    (vertigo) Paroymsal  Positional Vertigo\n",
       "4916                                       Acne\n",
       "4917                    Urinary tract infection\n",
       "4918                                  Psoriasis\n",
       "4919                                   Impetigo\n",
       "Name: prognosis, Length: 4920, dtype: object"
      ]
     },
     "execution_count": 12,
     "metadata": {},
     "output_type": "execute_result"
    }
   ],
   "source": [
    "y"
   ]
  },
  {
   "cell_type": "code",
   "execution_count": 13,
   "id": "2c2e9274",
   "metadata": {
    "execution": {
     "iopub.execute_input": "2023-03-18T11:36:39.977330Z",
     "iopub.status.busy": "2023-03-18T11:36:39.976930Z",
     "iopub.status.idle": "2023-03-18T11:36:39.989298Z",
     "shell.execute_reply": "2023-03-18T11:36:39.988594Z"
    },
    "papermill": {
     "duration": 0.026193,
     "end_time": "2023-03-18T11:36:39.991301",
     "exception": false,
     "start_time": "2023-03-18T11:36:39.965108",
     "status": "completed"
    },
    "tags": []
   },
   "outputs": [],
   "source": [
    "X_train, X_test, y_train, y_test = train_test_split(X, y, test_size=0.2, random_state=69)"
   ]
  },
  {
   "cell_type": "markdown",
   "id": "b1398063",
   "metadata": {
    "papermill": {
     "duration": 0.008693,
     "end_time": "2023-03-18T11:36:40.009199",
     "exception": false,
     "start_time": "2023-03-18T11:36:40.000506",
     "status": "completed"
    },
    "tags": []
   },
   "source": [
    "# Decision Tree Model"
   ]
  },
  {
   "cell_type": "code",
   "execution_count": 14,
   "id": "68b793e7",
   "metadata": {
    "execution": {
     "iopub.execute_input": "2023-03-18T11:36:40.029546Z",
     "iopub.status.busy": "2023-03-18T11:36:40.028535Z",
     "iopub.status.idle": "2023-03-18T11:36:40.242936Z",
     "shell.execute_reply": "2023-03-18T11:36:40.241687Z"
    },
    "papermill": {
     "duration": 0.227181,
     "end_time": "2023-03-18T11:36:40.245430",
     "exception": false,
     "start_time": "2023-03-18T11:36:40.018249",
     "status": "completed"
    },
    "tags": []
   },
   "outputs": [],
   "source": [
    "from sklearn.tree import DecisionTreeClassifier"
   ]
  },
  {
   "cell_type": "code",
   "execution_count": 15,
   "id": "d0d41c94",
   "metadata": {
    "execution": {
     "iopub.execute_input": "2023-03-18T11:36:40.266165Z",
     "iopub.status.busy": "2023-03-18T11:36:40.265473Z",
     "iopub.status.idle": "2023-03-18T11:36:40.313335Z",
     "shell.execute_reply": "2023-03-18T11:36:40.311792Z"
    },
    "papermill": {
     "duration": 0.060702,
     "end_time": "2023-03-18T11:36:40.315806",
     "exception": false,
     "start_time": "2023-03-18T11:36:40.255104",
     "status": "completed"
    },
    "tags": []
   },
   "outputs": [],
   "source": [
    "decision = DecisionTreeClassifier().fit(X_train,y_train)"
   ]
  },
  {
   "cell_type": "code",
   "execution_count": 16,
   "id": "10b25866",
   "metadata": {
    "execution": {
     "iopub.execute_input": "2023-03-18T11:36:40.335901Z",
     "iopub.status.busy": "2023-03-18T11:36:40.335524Z",
     "iopub.status.idle": "2023-03-18T11:36:40.346359Z",
     "shell.execute_reply": "2023-03-18T11:36:40.345260Z"
    },
    "papermill": {
     "duration": 0.023488,
     "end_time": "2023-03-18T11:36:40.348720",
     "exception": false,
     "start_time": "2023-03-18T11:36:40.325232",
     "status": "completed"
    },
    "tags": []
   },
   "outputs": [
    {
     "data": {
      "text/plain": [
       "1.0"
      ]
     },
     "execution_count": 16,
     "metadata": {},
     "output_type": "execute_result"
    }
   ],
   "source": [
    "decision.score(X_test,y_test)"
   ]
  },
  {
   "cell_type": "markdown",
   "id": "cb2312f2",
   "metadata": {
    "papermill": {
     "duration": 0.009225,
     "end_time": "2023-03-18T11:36:40.367671",
     "exception": false,
     "start_time": "2023-03-18T11:36:40.358446",
     "status": "completed"
    },
    "tags": []
   },
   "source": [
    "# Random Forest"
   ]
  },
  {
   "cell_type": "code",
   "execution_count": 17,
   "id": "65154082",
   "metadata": {
    "execution": {
     "iopub.execute_input": "2023-03-18T11:36:40.388429Z",
     "iopub.status.busy": "2023-03-18T11:36:40.388059Z",
     "iopub.status.idle": "2023-03-18T11:36:40.516856Z",
     "shell.execute_reply": "2023-03-18T11:36:40.515305Z"
    },
    "papermill": {
     "duration": 0.142788,
     "end_time": "2023-03-18T11:36:40.520064",
     "exception": false,
     "start_time": "2023-03-18T11:36:40.377276",
     "status": "completed"
    },
    "tags": []
   },
   "outputs": [],
   "source": [
    "from sklearn.ensemble import RandomForestClassifier"
   ]
  },
  {
   "cell_type": "code",
   "execution_count": 18,
   "id": "fc19512d",
   "metadata": {
    "execution": {
     "iopub.execute_input": "2023-03-18T11:36:40.541157Z",
     "iopub.status.busy": "2023-03-18T11:36:40.540739Z",
     "iopub.status.idle": "2023-03-18T11:36:40.986284Z",
     "shell.execute_reply": "2023-03-18T11:36:40.984999Z"
    },
    "papermill": {
     "duration": 0.459026,
     "end_time": "2023-03-18T11:36:40.988996",
     "exception": false,
     "start_time": "2023-03-18T11:36:40.529970",
     "status": "completed"
    },
    "tags": []
   },
   "outputs": [],
   "source": [
    "random = RandomForestClassifier().fit(X_train,y_train)"
   ]
  },
  {
   "cell_type": "code",
   "execution_count": 19,
   "id": "f011a8d2",
   "metadata": {
    "execution": {
     "iopub.execute_input": "2023-03-18T11:36:41.010565Z",
     "iopub.status.busy": "2023-03-18T11:36:41.010200Z",
     "iopub.status.idle": "2023-03-18T11:36:41.051710Z",
     "shell.execute_reply": "2023-03-18T11:36:41.050498Z"
    },
    "papermill": {
     "duration": 0.054664,
     "end_time": "2023-03-18T11:36:41.053932",
     "exception": false,
     "start_time": "2023-03-18T11:36:40.999268",
     "status": "completed"
    },
    "tags": []
   },
   "outputs": [
    {
     "data": {
      "text/plain": [
       "1.0"
      ]
     },
     "execution_count": 19,
     "metadata": {},
     "output_type": "execute_result"
    }
   ],
   "source": [
    "random.score(X_test,y_test)"
   ]
  },
  {
   "cell_type": "markdown",
   "id": "32cd23fd",
   "metadata": {
    "papermill": {
     "duration": 0.009322,
     "end_time": "2023-03-18T11:36:41.073337",
     "exception": false,
     "start_time": "2023-03-18T11:36:41.064015",
     "status": "completed"
    },
    "tags": []
   },
   "source": [
    "# Boosted Tree"
   ]
  },
  {
   "cell_type": "code",
   "execution_count": 20,
   "id": "ae422511",
   "metadata": {
    "execution": {
     "iopub.execute_input": "2023-03-18T11:36:41.094098Z",
     "iopub.status.busy": "2023-03-18T11:36:41.093738Z",
     "iopub.status.idle": "2023-03-18T11:36:41.098347Z",
     "shell.execute_reply": "2023-03-18T11:36:41.097348Z"
    },
    "papermill": {
     "duration": 0.017432,
     "end_time": "2023-03-18T11:36:41.100488",
     "exception": false,
     "start_time": "2023-03-18T11:36:41.083056",
     "status": "completed"
    },
    "tags": []
   },
   "outputs": [],
   "source": [
    "from sklearn.ensemble import GradientBoostingClassifier"
   ]
  },
  {
   "cell_type": "code",
   "execution_count": null,
   "id": "86185559",
   "metadata": {
    "execution": {
     "iopub.execute_input": "2023-03-18T11:36:41.123502Z",
     "iopub.status.busy": "2023-03-18T11:36:41.122486Z",
     "iopub.status.idle": "2023-03-18T11:37:10.726898Z",
     "shell.execute_reply": "2023-03-18T11:37:10.725376Z"
    },
    "papermill": {
     "duration": 29.619295,
     "end_time": "2023-03-18T11:37:10.729770",
     "exception": false,
     "start_time": "2023-03-18T11:36:41.110475",
     "status": "completed"
    },
    "tags": []
   },
   "outputs": [],
   "source": [
    "boost = GradientBoostingClassifier().fit(X_train, y_train)"
   ]
  },
  {
   "cell_type": "code",
   "execution_count": null,
   "id": "b01d4ab0",
   "metadata": {
    "execution": {
     "iopub.execute_input": "2023-03-18T11:37:10.753199Z",
     "iopub.status.busy": "2023-03-18T11:37:10.752480Z",
     "iopub.status.idle": "2023-03-18T11:37:10.793664Z",
     "shell.execute_reply": "2023-03-18T11:37:10.791368Z"
    },
    "papermill": {
     "duration": 0.056113,
     "end_time": "2023-03-18T11:37:10.796007",
     "exception": false,
     "start_time": "2023-03-18T11:37:10.739894",
     "status": "completed"
    },
    "tags": []
   },
   "outputs": [],
   "source": [
    "random.score(X_test,y_test)"
   ]
  },
  {
   "cell_type": "markdown",
   "id": "19d3a2e2",
   "metadata": {
    "papermill": {
     "duration": 0.00965,
     "end_time": "2023-03-18T11:37:10.815840",
     "exception": false,
     "start_time": "2023-03-18T11:37:10.806190",
     "status": "completed"
    },
    "tags": []
   },
   "source": [
    "# SVM "
   ]
  },
  {
   "cell_type": "code",
   "execution_count": null,
   "id": "8fb2b176",
   "metadata": {
    "execution": {
     "iopub.execute_input": "2023-03-18T11:37:10.838158Z",
     "iopub.status.busy": "2023-03-18T11:37:10.837134Z",
     "iopub.status.idle": "2023-03-18T11:37:10.842633Z",
     "shell.execute_reply": "2023-03-18T11:37:10.841320Z"
    },
    "papermill": {
     "duration": 0.019058,
     "end_time": "2023-03-18T11:37:10.844910",
     "exception": false,
     "start_time": "2023-03-18T11:37:10.825852",
     "status": "completed"
    },
    "tags": []
   },
   "outputs": [],
   "source": [
    "from sklearn.svm import SVC"
   ]
  },
  {
   "cell_type": "code",
   "execution_count": null,
   "id": "488863dc",
   "metadata": {
    "execution": {
     "iopub.execute_input": "2023-03-18T11:37:10.867443Z",
     "iopub.status.busy": "2023-03-18T11:37:10.866462Z",
     "iopub.status.idle": "2023-03-18T11:37:11.062927Z",
     "shell.execute_reply": "2023-03-18T11:37:11.061349Z"
    },
    "papermill": {
     "duration": 0.21045,
     "end_time": "2023-03-18T11:37:11.065607",
     "exception": false,
     "start_time": "2023-03-18T11:37:10.855157",
     "status": "completed"
    },
    "tags": []
   },
   "outputs": [],
   "source": [
    "svm = SVC().fit(X_train,y_train)"
   ]
  },
  {
   "cell_type": "code",
   "execution_count": null,
   "id": "4fb08a9b",
   "metadata": {
    "execution": {
     "iopub.execute_input": "2023-03-18T11:37:11.087929Z",
     "iopub.status.busy": "2023-03-18T11:37:11.087521Z",
     "iopub.status.idle": "2023-03-18T11:37:11.158014Z",
     "shell.execute_reply": "2023-03-18T11:37:11.157280Z"
    },
    "papermill": {
     "duration": 0.084082,
     "end_time": "2023-03-18T11:37:11.160044",
     "exception": false,
     "start_time": "2023-03-18T11:37:11.075962",
     "status": "completed"
    },
    "tags": []
   },
   "outputs": [],
   "source": [
    "svm.score(X_test,y_test)"
   ]
  },
  {
   "cell_type": "markdown",
   "id": "a96657bd",
   "metadata": {
    "papermill": {
     "duration": 0.009995,
     "end_time": "2023-03-18T11:37:11.180277",
     "exception": false,
     "start_time": "2023-03-18T11:37:11.170282",
     "status": "completed"
    },
    "tags": []
   },
   "source": [
    "# F1 Score"
   ]
  },
  {
   "cell_type": "code",
   "execution_count": null,
   "id": "8a721ba1",
   "metadata": {
    "execution": {
     "iopub.execute_input": "2023-03-18T11:37:11.202787Z",
     "iopub.status.busy": "2023-03-18T11:37:11.202108Z",
     "iopub.status.idle": "2023-03-18T11:37:11.206301Z",
     "shell.execute_reply": "2023-03-18T11:37:11.205237Z"
    },
    "papermill": {
     "duration": 0.017732,
     "end_time": "2023-03-18T11:37:11.208305",
     "exception": false,
     "start_time": "2023-03-18T11:37:11.190573",
     "status": "completed"
    },
    "tags": []
   },
   "outputs": [],
   "source": [
    "from sklearn.metrics import f1_score"
   ]
  },
  {
   "cell_type": "code",
   "execution_count": null,
   "id": "f80ccd52",
   "metadata": {
    "execution": {
     "iopub.execute_input": "2023-03-18T11:37:11.230531Z",
     "iopub.status.busy": "2023-03-18T11:37:11.230118Z",
     "iopub.status.idle": "2023-03-18T11:37:11.304346Z",
     "shell.execute_reply": "2023-03-18T11:37:11.303373Z"
    },
    "papermill": {
     "duration": 0.087816,
     "end_time": "2023-03-18T11:37:11.306446",
     "exception": false,
     "start_time": "2023-03-18T11:37:11.218630",
     "status": "completed"
    },
    "tags": []
   },
   "outputs": [],
   "source": [
    "f1_score(svm.predict(X_test),y_test,average='micro')"
   ]
  },
  {
   "cell_type": "code",
   "execution_count": null,
   "id": "9309f7f2",
   "metadata": {
    "execution": {
     "iopub.execute_input": "2023-03-18T11:37:11.329368Z",
     "iopub.status.busy": "2023-03-18T11:37:11.328938Z",
     "iopub.status.idle": "2023-03-18T11:37:11.375022Z",
     "shell.execute_reply": "2023-03-18T11:37:11.373317Z"
    },
    "papermill": {
     "duration": 0.061253,
     "end_time": "2023-03-18T11:37:11.378176",
     "exception": false,
     "start_time": "2023-03-18T11:37:11.316923",
     "status": "completed"
    },
    "tags": []
   },
   "outputs": [],
   "source": [
    "f1_score(random.predict(X_test),y_test,average='micro')"
   ]
  },
  {
   "cell_type": "code",
   "execution_count": null,
   "id": "35b6e4e2",
   "metadata": {
    "execution": {
     "iopub.execute_input": "2023-03-18T11:37:11.400735Z",
     "iopub.status.busy": "2023-03-18T11:37:11.400397Z",
     "iopub.status.idle": "2023-03-18T11:37:11.455812Z",
     "shell.execute_reply": "2023-03-18T11:37:11.454511Z"
    },
    "papermill": {
     "duration": 0.069364,
     "end_time": "2023-03-18T11:37:11.458282",
     "exception": false,
     "start_time": "2023-03-18T11:37:11.388918",
     "status": "completed"
    },
    "tags": []
   },
   "outputs": [],
   "source": [
    "f1_score(boost.predict(X_test),y_test,average='micro')"
   ]
  },
  {
   "cell_type": "code",
   "execution_count": null,
   "id": "bfa75f53",
   "metadata": {
    "execution": {
     "iopub.execute_input": "2023-03-18T11:37:11.482397Z",
     "iopub.status.busy": "2023-03-18T11:37:11.481517Z",
     "iopub.status.idle": "2023-03-18T11:37:11.498924Z",
     "shell.execute_reply": "2023-03-18T11:37:11.497287Z"
    },
    "papermill": {
     "duration": 0.032302,
     "end_time": "2023-03-18T11:37:11.501667",
     "exception": false,
     "start_time": "2023-03-18T11:37:11.469365",
     "status": "completed"
    },
    "tags": []
   },
   "outputs": [],
   "source": [
    "f1_score(decision.predict(X_test),y_test,average='micro')"
   ]
  },
  {
   "cell_type": "code",
   "execution_count": null,
   "id": "f37719b9",
   "metadata": {
    "execution": {
     "iopub.execute_input": "2023-03-18T11:37:11.525077Z",
     "iopub.status.busy": "2023-03-18T11:37:11.524690Z",
     "iopub.status.idle": "2023-03-18T11:37:11.540372Z",
     "shell.execute_reply": "2023-03-18T11:37:11.539119Z"
    },
    "papermill": {
     "duration": 0.030329,
     "end_time": "2023-03-18T11:37:11.543025",
     "exception": false,
     "start_time": "2023-03-18T11:37:11.512696",
     "status": "completed"
    },
    "tags": []
   },
   "outputs": [],
   "source": [
    "df2 = pd.read_csv(\"Testing.csv\")"
   ]
  },
  {
   "cell_type": "code",
   "execution_count": null,
   "id": "dac3150b",
   "metadata": {
    "execution": {
     "iopub.execute_input": "2023-03-18T11:37:11.566682Z",
     "iopub.status.busy": "2023-03-18T11:37:11.566295Z",
     "iopub.status.idle": "2023-03-18T11:37:11.598447Z",
     "shell.execute_reply": "2023-03-18T11:37:11.596901Z"
    },
    "papermill": {
     "duration": 0.046995,
     "end_time": "2023-03-18T11:37:11.600947",
     "exception": false,
     "start_time": "2023-03-18T11:37:11.553952",
     "status": "completed"
    },
    "tags": []
   },
   "outputs": [],
   "source": [
    "df2"
   ]
  },
  {
   "cell_type": "code",
   "execution_count": null,
   "id": "0d9e3c52",
   "metadata": {
    "execution": {
     "iopub.execute_input": "2023-03-18T11:37:11.626397Z",
     "iopub.status.busy": "2023-03-18T11:37:11.626028Z",
     "iopub.status.idle": "2023-03-18T11:37:11.631614Z",
     "shell.execute_reply": "2023-03-18T11:37:11.630584Z"
    },
    "papermill": {
     "duration": 0.020554,
     "end_time": "2023-03-18T11:37:11.633590",
     "exception": false,
     "start_time": "2023-03-18T11:37:11.613036",
     "status": "completed"
    },
    "tags": []
   },
   "outputs": [],
   "source": [
    "test = df2.iloc[:,:-1]\n",
    "actual = df2.iloc[:,-1]"
   ]
  },
  {
   "cell_type": "code",
   "execution_count": null,
   "id": "305bc0e2",
   "metadata": {
    "execution": {
     "iopub.execute_input": "2023-03-18T11:37:11.660595Z",
     "iopub.status.busy": "2023-03-18T11:37:11.659727Z",
     "iopub.status.idle": "2023-03-18T11:37:11.676246Z",
     "shell.execute_reply": "2023-03-18T11:37:11.675263Z"
    },
    "papermill": {
     "duration": 0.032783,
     "end_time": "2023-03-18T11:37:11.678356",
     "exception": false,
     "start_time": "2023-03-18T11:37:11.645573",
     "status": "completed"
    },
    "tags": []
   },
   "outputs": [],
   "source": [
    "test.head()"
   ]
  },
  {
   "cell_type": "code",
   "execution_count": null,
   "id": "18b4c585",
   "metadata": {
    "execution": {
     "iopub.execute_input": "2023-03-18T11:37:11.704749Z",
     "iopub.status.busy": "2023-03-18T11:37:11.704385Z",
     "iopub.status.idle": "2023-03-18T11:37:11.714247Z",
     "shell.execute_reply": "2023-03-18T11:37:11.713247Z"
    },
    "papermill": {
     "duration": 0.025135,
     "end_time": "2023-03-18T11:37:11.716150",
     "exception": false,
     "start_time": "2023-03-18T11:37:11.691015",
     "status": "completed"
    },
    "tags": []
   },
   "outputs": [],
   "source": [
    "decision.score(test,actual)"
   ]
  },
  {
   "cell_type": "code",
   "execution_count": null,
   "id": "a46a0997",
   "metadata": {
    "execution": {
     "iopub.execute_input": "2023-03-18T11:37:11.743941Z",
     "iopub.status.busy": "2023-03-18T11:37:11.742592Z",
     "iopub.status.idle": "2023-03-18T11:37:11.764794Z",
     "shell.execute_reply": "2023-03-18T11:37:11.763620Z"
    },
    "papermill": {
     "duration": 0.038471,
     "end_time": "2023-03-18T11:37:11.767233",
     "exception": false,
     "start_time": "2023-03-18T11:37:11.728762",
     "status": "completed"
    },
    "tags": []
   },
   "outputs": [],
   "source": [
    "random.score(test,actual)"
   ]
  },
  {
   "cell_type": "code",
   "execution_count": null,
   "id": "a58d1463",
   "metadata": {
    "execution": {
     "iopub.execute_input": "2023-03-18T11:37:11.794916Z",
     "iopub.status.busy": "2023-03-18T11:37:11.793893Z",
     "iopub.status.idle": "2023-03-18T11:37:11.807379Z",
     "shell.execute_reply": "2023-03-18T11:37:11.806293Z"
    },
    "papermill": {
     "duration": 0.029744,
     "end_time": "2023-03-18T11:37:11.809830",
     "exception": false,
     "start_time": "2023-03-18T11:37:11.780086",
     "status": "completed"
    },
    "tags": []
   },
   "outputs": [],
   "source": [
    "boost.score(test,actual)"
   ]
  },
  {
   "cell_type": "code",
   "execution_count": null,
   "id": "be5071e0",
   "metadata": {
    "execution": {
     "iopub.execute_input": "2023-03-18T11:37:11.837740Z",
     "iopub.status.busy": "2023-03-18T11:37:11.837119Z",
     "iopub.status.idle": "2023-03-18T11:37:11.848668Z",
     "shell.execute_reply": "2023-03-18T11:37:11.847623Z"
    },
    "papermill": {
     "duration": 0.027803,
     "end_time": "2023-03-18T11:37:11.850661",
     "exception": false,
     "start_time": "2023-03-18T11:37:11.822858",
     "status": "completed"
    },
    "tags": []
   },
   "outputs": [],
   "source": [
    "svm.score(test,actual)"
   ]
  },
  {
   "cell_type": "code",
   "execution_count": null,
   "id": "59584427",
   "metadata": {
    "execution": {
     "iopub.execute_input": "2023-03-18T11:37:11.878454Z",
     "iopub.status.busy": "2023-03-18T11:37:11.878070Z",
     "iopub.status.idle": "2023-03-18T11:37:11.891037Z",
     "shell.execute_reply": "2023-03-18T11:37:11.889839Z"
    },
    "papermill": {
     "duration": 0.029508,
     "end_time": "2023-03-18T11:37:11.893270",
     "exception": false,
     "start_time": "2023-03-18T11:37:11.863762",
     "status": "completed"
    },
    "tags": []
   },
   "outputs": [],
   "source": [
    "svm.predict(test)"
   ]
  },
  {
   "cell_type": "code",
   "execution_count": null,
   "id": "77aae7ef",
   "metadata": {
    "execution": {
     "iopub.execute_input": "2023-03-18T11:37:11.921682Z",
     "iopub.status.busy": "2023-03-18T11:37:11.921290Z",
     "iopub.status.idle": "2023-03-18T11:37:11.929488Z",
     "shell.execute_reply": "2023-03-18T11:37:11.928566Z"
    },
    "papermill": {
     "duration": 0.024813,
     "end_time": "2023-03-18T11:37:11.931315",
     "exception": false,
     "start_time": "2023-03-18T11:37:11.906502",
     "status": "completed"
    },
    "tags": []
   },
   "outputs": [],
   "source": [
    "actual"
   ]
  },
  {
   "cell_type": "code",
   "execution_count": null,
   "id": "9b670f5d",
   "metadata": {
    "papermill": {
     "duration": 0.012601,
     "end_time": "2023-03-18T11:37:11.956849",
     "exception": false,
     "start_time": "2023-03-18T11:37:11.944248",
     "status": "completed"
    },
    "tags": []
   },
   "outputs": [],
   "source": []
  }
 ],
 "metadata": {
  "kernelspec": {
   "display_name": "Python 3 (ipykernel)",
   "language": "python",
   "name": "python3"
  },
  "language_info": {
   "codemirror_mode": {
    "name": "ipython",
    "version": 3
   },
   "file_extension": ".py",
   "mimetype": "text/x-python",
   "name": "python",
   "nbconvert_exporter": "python",
   "pygments_lexer": "ipython3",
   "version": "3.10.9"
  },
  "papermill": {
   "default_parameters": {},
   "duration": 43.255561,
   "end_time": "2023-03-18T11:37:12.794312",
   "environment_variables": {},
   "exception": null,
   "input_path": "__notebook__.ipynb",
   "output_path": "__notebook__.ipynb",
   "parameters": {},
   "start_time": "2023-03-18T11:36:29.538751",
   "version": "2.4.0"
  }
 },
 "nbformat": 4,
 "nbformat_minor": 5
}
